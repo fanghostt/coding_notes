{
 "cells": [
  {
   "cell_type": "markdown",
   "metadata": {},
   "source": [
    "# EASY"
   ]
  },
  {
   "cell_type": "markdown",
   "metadata": {},
   "source": [
    "# 1 two-number-sum"
   ]
  },
  {
   "cell_type": "markdown",
   "metadata": {},
   "source": [
    "* 两数之和\n",
    "    * 输入: 一个非空整数数组array和一个目标值targetSum \n",
    "    * 输出：在数组中找到两个数的和等于目标值，返回这两个数的数组，如果没有找到则返回空数组。\n",
    "\n",
    "* 解决方法\n",
    "    * 1. 两层循环：**遍历两遍数组**，找到两个数的和等于目标值，返回这两个数的数组，如果没有找到则返回空数组。\n",
    "        * 时间复杂度：O(n^2) \n",
    "        * 空间复杂度：O(1)\n",
    "    * 2. 哈希表：遍历一遍数组，将数组中的数存入**哈希表**，同时判断目标值减去当前数是否在哈希表中，如果在则返回这两个数的数组，如果没有找到则返回空数组。\n",
    "        * python实现为计算出`targetSum - num`，并将`num`存入哈希表(dict)，如果`targetSum - num`在哈希表中，则返回`[num, targetSum - num]`\n",
    "        * 时间复杂度：O(n) \n",
    "        * 空间复杂度：O(n)\n",
    "    * 3. 排序数组：先对数组进行排序，然后使用**双指针**，一个指向数组的头部，一个指向数组的尾部，判断两个指针指向的数的和是否等于目标值，如果等于则返回这两个数的数组，如果不等于则判断两个数的和与目标值的大小，如果大于目标值则尾指针向前移动，如果小于目标值则头指针向后移动。\n",
    "        * python 实现为array.sort()排序\n",
    "        * 时间复杂度：O(nlogn) \n",
    "        * 空间复杂度：O(1)"
   ]
  },
  {
   "cell_type": "code",
   "execution_count": 32,
   "metadata": {},
   "outputs": [],
   "source": [
    "class program():\n",
    "    # solution 1\n",
    "    def twoNumberSum1(array, targetSum):\n",
    "        for i in range(len(array)):\n",
    "            firstNum = array[i]\n",
    "            for j in range(i+1, len(array)):\n",
    "                secondNum = array[j]\n",
    "                if firstNum + secondNum == targetSum:\n",
    "                    return [firstNum, secondNum]\n",
    "        return []\n",
    "\n",
    "\n",
    "    #solution 2\n",
    "    def twoNumberSum2(array, targetSum):\n",
    "        nums = {}\n",
    "        for num in array:\n",
    "            potentialMatch = targetSum - num\n",
    "            if potentialMatch in nums:\n",
    "                return [potentialMatch, num]\n",
    "            else:\n",
    "                nums[num] = True\n",
    "        return []\n",
    "\n",
    "\n",
    "    #solution 3\n",
    "    def twoNumberSum3(array, targetSum):\n",
    "        array.sort()\n",
    "        left = 0 \n",
    "        right = len(array) - 1\n",
    "        while left < right:\n",
    "            currentSum = array[left] + array[right]\n",
    "            if currentSum == targetSum:\n",
    "                return [array[left], array[right]]\n",
    "            elif currentSum < targetSum:\n",
    "                left += 1\n",
    "            elif currentSum > targetSum:\n",
    "                right -= 1\n",
    "        return []\n",
    "    "
   ]
  },
  {
   "cell_type": "code",
   "execution_count": 35,
   "metadata": {},
   "outputs": [
    {
     "name": "stderr",
     "output_type": "stream",
     "text": [
      "...\n",
      "----------------------------------------------------------------------\n",
      "Ran 3 tests in 0.004s\n",
      "\n",
      "OK\n"
     ]
    }
   ],
   "source": [
    "import unittest\n",
    "\n",
    "class TestProgram(unittest.TestCase):\n",
    "    def test_case_1(self):\n",
    "        output = program.twoNumberSum1([3, 5, -4, 8, 11, 1, -1, 6], 10)\n",
    "        self.assertTrue(len(output) == 2)\n",
    "        self.assertTrue(11 in output)\n",
    "        self.assertTrue(-1 in output)\n",
    "    def test_case_2(self):\n",
    "        output = program.twoNumberSum2([3, 5, -4, 8, 11, 1, -1, 6], 10)\n",
    "        self.assertTrue(len(output) == 2)\n",
    "        self.assertTrue(11 in output)\n",
    "        self.assertTrue(-1 in output)\n",
    "    def test_case_3(self):\n",
    "        output = program.twoNumberSum3([3, 5, -4, 8, 11, 1, -1, 6], 10)\n",
    "        self.assertTrue(len(output) == 2)\n",
    "        self.assertTrue(11 in output)\n",
    "        self.assertTrue(-1 in output)\n",
    "\n",
    "if __name__ == '__main__':\n",
    "    unittest.main(argv=['first-arg-is-ignored'], exit=False)\n"
   ]
  },
  {
   "cell_type": "markdown",
   "metadata": {},
   "source": [
    "# 2 validate-subsequence"
   ]
  },
  {
   "cell_type": "markdown",
   "metadata": {},
   "source": [
    "* 验证子序列\n",
    "    * 输入: 两个非空整数数组array和sequence\n",
    "    * 输出：判断sequence是否为array的子序列，如果是则返回True，否则返回False\n",
    "    * 注意：子序列是指一个数组的一部分，这部分的元素在原数组中是有序的，但不一定是连续的。\n",
    "* 解决方法\n",
    "    * 1. **遍历**：双指针，遍历一遍array数组。如果array数组的数等于sequence数组的数，则将sequence数组的指针向后移动，直到遍历完array数组。\n",
    "        * 时间复杂度：O(n) \n",
    "        * 空间复杂度：O(1)\n",
    "    * 2. **遍历**：遍历一遍array数组，单指针记录sequence数组的指针，不需要保存array数组的指针。\n",
    "        * 时间复杂度：O(n) \n",
    "        * 空间复杂度：O(1)"
   ]
  },
  {
   "cell_type": "code",
   "execution_count": 26,
   "metadata": {},
   "outputs": [],
   "source": [
    "array = [5, 1, 22, 25, 6, -1, 8, 10]\n",
    "sequence = [1,6,-1,10]\n",
    "\n",
    "output = True"
   ]
  },
  {
   "cell_type": "code",
   "execution_count": 38,
   "metadata": {},
   "outputs": [],
   "source": [
    "class program():\n",
    "    def isValidSubsequence1(array, sequence):\n",
    "        arrayIdx = 0\n",
    "        seqIdx = 0\n",
    "        while arrayIdx < len(array) and seqIdx < len(sequence):\n",
    "            if array[arrayIdx] == sequence[seqIdx]:\n",
    "                seqIdx += 1\n",
    "            arrayIdx += 1\n",
    "        return seqIdx == len(sequence)\n",
    "\n",
    "    def isValidSubsequence2(array, sequence):\n",
    "        seqIdx = 0\n",
    "        for value in array:\n",
    "            if value == sequence[seqIdx]:\n",
    "                seqIdx += 1\n",
    "            if seqIdx == len(sequence):\n",
    "                break\n",
    "        return seqIdx == len(sequence)\n",
    "\n"
   ]
  },
  {
   "cell_type": "code",
   "execution_count": 40,
   "metadata": {},
   "outputs": [
    {
     "name": "stderr",
     "output_type": "stream",
     "text": [
      "..\n",
      "----------------------------------------------------------------------\n",
      "Ran 2 tests in 0.001s\n",
      "\n",
      "OK\n"
     ]
    }
   ],
   "source": [
    "import unittest\n",
    "\n",
    "\n",
    "class TestProgram(unittest.TestCase):\n",
    "    def test_case_1(self):\n",
    "        array = [5, 1, 22, 25, 6, -1, 8, 10]\n",
    "        sequence = [1, 6, -1, 10]\n",
    "        self.assertTrue(program.isValidSubsequence1(array, sequence))\n",
    "    def test_case_2(self):\n",
    "        array = [5, 1, 22, 25, 6, -1, 8, 10]\n",
    "        sequence = [1, 6, -1, 10]\n",
    "        self.assertTrue(program.isValidSubsequence2(array, sequence))\n",
    "        \n",
    "if __name__ == '__main__':\n",
    "    unittest.main(argv=['first-arg-is-ignored'], exit=False)"
   ]
  },
  {
   "cell_type": "markdown",
   "metadata": {},
   "source": [
    "# 3 sorted-squared-array"
   ]
  },
  {
   "cell_type": "markdown",
   "metadata": {},
   "source": [
    "* 有序数组的平方\n",
    "    * 输入: 一个有序整数数组array\n",
    "    * 输出：返回一个新的数组，新数组中的数是array数组中的数的平方，且新数组是有序的。\n",
    "    * 注意: array 可为负数\n",
    "* 解决方法\n",
    "    * 1. **平方后排序**\n",
    "        * 时间复杂度：O(nlogn) \n",
    "        * 空间复杂度：O(n)\n",
    "    * 2. **双指针边平方边排序**：先找到正负数的分界点，然后使用双指针，一个指向负数的最后一个数，一个指向正数的第一个数，判断两个指针指向的数的平方大小，将较大的数放入新数组的末尾。\n",
    "        * 时间复杂度：O(n) \n",
    "        * 空间复杂度：O(n)"
   ]
  },
  {
   "cell_type": "code",
   "execution_count": 55,
   "metadata": {},
   "outputs": [],
   "source": [
    "class program():\n",
    "    def sortedSquaredArray1(array):\n",
    "        sortedSquare = [0 for _ in array]\n",
    "        \n",
    "        for idx in range(len(array)):\n",
    "            sortedSquare[idx] = array[idx] ** 2\n",
    "        \n",
    "        sortedSquare.sort()\n",
    "        return sortedSquare\n",
    "    \n",
    "    def sortedSquaredArray2(array):\n",
    "        sortedSquare = [0 for _ in array]\n",
    "        biggerValueIdx = len(array) -1\n",
    "        smallerValueIdx = 0\n",
    "        \n",
    "        for idx in reversed(range(len(array))):\n",
    "            biggerValue = array[biggerValueIdx] ** 2\n",
    "            smallerValue = array[smallerValueIdx] ** 2\n",
    "            \n",
    "            if biggerValue >= smallerValue:\n",
    "                sortedSquare[idx] = biggerValue\n",
    "                biggerValueIdx -= 1\n",
    "                \n",
    "            if biggerValue < smallerValue:\n",
    "                sortedSquare[idx] = smallerValue\n",
    "                smallerValue -= 1\n",
    "                \n",
    "        return sortedSquare\n",
    "            \n",
    "    \n",
    "    \n"
   ]
  },
  {
   "cell_type": "code",
   "execution_count": 56,
   "metadata": {},
   "outputs": [
    {
     "name": "stderr",
     "output_type": "stream",
     "text": [
      "..\n",
      "----------------------------------------------------------------------\n",
      "Ran 2 tests in 0.001s\n",
      "\n",
      "OK\n"
     ]
    }
   ],
   "source": [
    "import unittest\n",
    "\n",
    "\n",
    "class TestProgram(unittest.TestCase):\n",
    "    def test_case_1(self):\n",
    "        input = [1, 2, 3, 5, 6, 8, 9]\n",
    "        expected = [1, 4, 9, 25, 36, 64, 81]\n",
    "        actual = program.sortedSquaredArray1(input)\n",
    "        self.assertEqual(actual, expected)\n",
    "        \n",
    "    def test_case_2(self):\n",
    "        input = [1, 2, 3, 5, 6, 8, 9]\n",
    "        expected = [1, 4, 9, 25, 36, 64, 81]\n",
    "        actual = program.sortedSquaredArray2(input)\n",
    "        self.assertEqual(actual, expected)\n",
    "        \n",
    "if __name__ == '__main__':\n",
    "    unittest.main(argv=['first-arg-is-ignored'], exit=False)"
   ]
  },
  {
   "cell_type": "markdown",
   "metadata": {},
   "source": [
    "# 4 tournament-winner"
   ]
  },
  {
   "cell_type": "markdown",
   "metadata": {},
   "source": [
    "* 锦标赛冠军\n",
    "    * 输入: 一个二维整数数组competitions和一个整数数组results\n",
    "    * 输出：返回获胜队伍的名字\n",
    "    * 注意: 赢了得3分，输了得0分，没有平局\n",
    "* 解决方法\n",
    "    * 1. **哈希表**：遍历一遍competitions和results数组，将每个队伍的得分存入哈希表`scores`，然后找到得分最高的队伍。\n",
    "        * 时间复杂度：O(n) \n",
    "        * 空间复杂度：O(k) k为队伍的个数\n",
    "        * 注意：利用currentWinner来记录当前得分最高的队伍，如果有队伍得分超过currentWinner，则更新currentWinner\n"
   ]
  },
  {
   "cell_type": "code",
   "execution_count": 72,
   "metadata": {},
   "outputs": [],
   "source": [
    "\n",
    "class program():\n",
    "    HOME_TEAM_WON = 1\n",
    "    def tournamentWinner(competitions, results):\n",
    "        \n",
    "        def updateScore(winnerTeam, scores):\n",
    "            if winnerTeam in scores:\n",
    "                scores[winnerTeam] += 3\n",
    "            else:\n",
    "                scores[winnerTeam] = 3\n",
    "            \n",
    "        currentWinner = \"\"\n",
    "        scores = {currentWinner:0}\n",
    "        \n",
    "        for idx,competition in enumerate(competitions):\n",
    "            homeTeam, awayTeam = competition\n",
    "            result = results[idx]\n",
    "            winnerTeam = homeTeam if HOME_TEAM_WON == 1 and result == 1 else awayTeam\n",
    "            \n",
    "            updateScore(winnerTeam, scores)\n",
    "            if scores[winnerTeam] > scores[currentWinner]:\n",
    "                currentWinner = winnerTeam\n",
    "        return currentWinner\n"
   ]
  },
  {
   "cell_type": "code",
   "execution_count": 73,
   "metadata": {},
   "outputs": [
    {
     "name": "stderr",
     "output_type": "stream",
     "text": [
      ".\n",
      "----------------------------------------------------------------------\n",
      "Ran 1 test in 0.001s\n",
      "\n",
      "OK\n"
     ]
    }
   ],
   "source": [
    "import unittest\n",
    "\n",
    "\n",
    "class TestProgram(unittest.TestCase):\n",
    "    def test_case_1(self):\n",
    "        competitions = [[\"HTML\", \"C#\"], [\"C#\", \"Python\"], [\"Python\", \"HTML\"]]\n",
    "        results = [0, 0, 1]\n",
    "        expected = \"Python\"\n",
    "        actual = program.tournamentWinner(competitions, results)\n",
    "        self.assertEqual(actual, expected)\n",
    "            \n",
    "if __name__ == '__main__':\n",
    "    unittest.main(argv=['first-arg-is-ignored'], exit=False)"
   ]
  },
  {
   "cell_type": "markdown",
   "metadata": {},
   "source": [
    "# 5 non-constructible-change"
   ]
  },
  {
   "cell_type": "markdown",
   "metadata": {},
   "source": [
    "* 无法找零的金额\n",
    "    * 输入: 一个非负整数数组coins\n",
    "    * 输出：返回无法找零的最小金额\n",
    "    * 注意: 找零的金额为1，2，3，...，n-1，n，n+1，...，sum(coins)\n",
    "* 解决方法\n",
    "    * 1. **排序**：先对coins数组进行排序，然后遍历coins数组，如果当前的找零金额小于等于当前的硬币面值，则返回当前的找零金额，否则更新找零金额。\n",
    "        * 时间复杂度：O(nlogn) \n",
    "        * 空间复杂度：O(1)\n",
    "        * 注意：最小无法找零的金额为从小到大`加和`的硬币面值+1, 使用currentAmount来追踪目前的找零金额。"
   ]
  },
  {
   "cell_type": "code",
   "execution_count": 75,
   "metadata": {},
   "outputs": [],
   "source": [
    "class program():\n",
    "    def nonConstructibleChange(coins):\n",
    "        coins.sort()\n",
    "        currentChange = 0\n",
    "        for coin in coins:\n",
    "            if coin > currentChange + 1:\n",
    "                break\n",
    "            currentChange += coin\n",
    "            \n",
    "        return currentChange + 1"
   ]
  },
  {
   "cell_type": "code",
   "execution_count": 76,
   "metadata": {},
   "outputs": [
    {
     "name": "stderr",
     "output_type": "stream",
     "text": [
      ".\n",
      "----------------------------------------------------------------------\n",
      "Ran 1 test in 0.001s\n",
      "\n",
      "OK\n"
     ]
    }
   ],
   "source": [
    "import unittest\n",
    "\n",
    "\n",
    "class TestProgram(unittest.TestCase):\n",
    "    def test_case_1(self):\n",
    "        input = [5, 7, 1, 1, 2, 3, 22]\n",
    "        expected = 20\n",
    "        actual = program.nonConstructibleChange(input)\n",
    "        self.assertEqual(actual, expected)\n",
    "\n",
    "if __name__ == '__main__':\n",
    "    unittest.main(argv=['first-arg-is-ignored'], exit=False)"
   ]
  },
  {
   "cell_type": "markdown",
   "metadata": {},
   "source": [
    "# 6 transpose-matrix"
   ]
  },
  {
   "cell_type": "markdown",
   "metadata": {},
   "source": [
    "* 矩阵转置\n",
    "    * 输入: 一个二维整数数组matrix\n",
    "    * 输出：返回矩阵的转置\n",
    "* 解决方法\n",
    "    * 1. **遍历**：用两个for循环遍历matrix数组，将matrix[i][j]赋值给newMatrix[j][i]\n",
    "        * 时间复杂度：O(n*m) \n",
    "        * 空间复杂度：O(n*m)\n",
    "        * 注意: 在写入进新的矩阵时，需要先得到row然后再讲row整个写入新的矩阵。所以在循环时，先进行`列`的循环，然后再进行`行`的循环。"
   ]
  },
  {
   "cell_type": "code",
   "execution_count": 77,
   "metadata": {},
   "outputs": [],
   "source": [
    "class program():\n",
    "    def transposeMatrix(matrix):\n",
    "        transposedMatrix = []\n",
    "        for col in range(len(matrix[0])):\n",
    "            newRow = []\n",
    "            for row in range(len(matrix)):\n",
    "                newRow.append(matrix[row][col])\n",
    "            transposedMatrix.append(newRow)\n",
    "        return transposedMatrix"
   ]
  },
  {
   "cell_type": "code",
   "execution_count": 78,
   "metadata": {},
   "outputs": [
    {
     "name": "stderr",
     "output_type": "stream",
     "text": [
      ".\n",
      "----------------------------------------------------------------------\n",
      "Ran 1 test in 0.001s\n",
      "\n",
      "OK\n"
     ]
    }
   ],
   "source": [
    "import unittest\n",
    "\n",
    "\n",
    "class TestProgram(unittest.TestCase):\n",
    "    def test_case_1(self):\n",
    "        input = [[1, 2, 3], [4, 5, 6], [7, 8, 9]]\n",
    "        expected = [[1, 4, 7], [2, 5, 8], [3, 6, 9]]\n",
    "        actual = program.transposeMatrix(input)\n",
    "        self.assertEqual(actual, expected)\n",
    "\n",
    "if __name__ == '__main__':\n",
    "    unittest.main(argv=['first-arg-is-ignored'], exit=False)"
   ]
  },
  {
   "cell_type": "markdown",
   "metadata": {},
   "source": [
    "# Medium"
   ]
  },
  {
   "cell_type": "markdown",
   "metadata": {},
   "source": [
    "#  7 three-number-sum"
   ]
  },
  {
   "cell_type": "markdown",
   "metadata": {},
   "source": [
    "* 三数之和\n",
    "    * 输入: 一个非空整数数组array和一个目标值targetSum \n",
    "    * 输出：在数组中找到三个数的和等于目标值，返回这三个数的数组，如果没有找到则返回空数组。三元数组需要按照升序排列。\n",
    "* 解决方法\n",
    "    * 1. **单循环+双指针**: 先对数组进行排序，然后遍历一遍数组，对于每个数，使用双指针，一个指向当前数的下一个数，一个指向数组的尾部，判断三个数的和是否等于目标值，如果等于则返回这三个数的数组，如果不等于则判断三个数的和与目标值的大小，如果大于目标值则尾指针向前移动，如果小于目标值则头指针向后移动。\n",
    "        * 时间复杂度：O(n^2) \n",
    "        * 空间复杂度：O(n)\n",
    "        * 注意：在写入结果时，需要先将三个数的数组写入一个临时数组，然后再将临时数组写入结果数组。"
   ]
  },
  {
   "cell_type": "code",
   "execution_count": 79,
   "metadata": {},
   "outputs": [],
   "source": [
    "class program():\n",
    "    def threeNumberSum(array, targetSum):\n",
    "        array.sort()\n",
    "        triplets = []\n",
    "        for i in range(len(array) - 2):\n",
    "            left = i + 1\n",
    "            right = len(array) - 1\n",
    "            while left < right:\n",
    "                currentSum = array[i] + array[left] + array[right]\n",
    "                if currentSum == targetSum:\n",
    "                    triplets.append([array[i], array[left], array[right]])\n",
    "                    left += 1\n",
    "                    right -= 1\n",
    "                elif currentSum > targetSum:\n",
    "                    right -= 1\n",
    "                elif currentSum < targetSum:\n",
    "                    left += 1\n",
    "        return triplets "
   ]
  },
  {
   "cell_type": "code",
   "execution_count": 80,
   "metadata": {},
   "outputs": [
    {
     "name": "stderr",
     "output_type": "stream",
     "text": [
      ".\n",
      "----------------------------------------------------------------------\n",
      "Ran 1 test in 0.001s\n",
      "\n",
      "OK\n"
     ]
    }
   ],
   "source": [
    "import unittest\n",
    "\n",
    "\n",
    "class TestProgram(unittest.TestCase):\n",
    "    def test_case_1(self):\n",
    "        self.assertEqual(\n",
    "            program.threeNumberSum([12, 3, 1, 2, -6, 5, -8, 6], 0),\n",
    "            [[-8, 2, 6], [-8, 3, 5], [-6, 1, 5]],\n",
    "        )\n",
    "        \n",
    "if __name__ == '__main__':\n",
    "    unittest.main(argv=['first-arg-is-ignored'], exit=False)\n"
   ]
  },
  {
   "cell_type": "markdown",
   "metadata": {},
   "source": [
    "# 8 smallest-difference"
   ]
  },
  {
   "cell_type": "markdown",
   "metadata": {},
   "source": [
    "* 最小差值\n",
    "    * 输入: 两个非空整数数组arrayOne和arrayTwo\n",
    "    * 输出：返回两个数组中的数的最小差值\n",
    "    * 假设只有一对数的差值最小\n",
    "* 解决方法\n",
    "    * 1. **排序+双指针**：先对两个数组进行`排序`，然后使用`双指针`，一个指向arrayOne的头部，一个指向arrayTwo的头部，判断两个指针指向的数的差值的绝对值大小，将较小的数放入结果数组，然后判断两个数的大小，如果相等则返回结果数组，如果不相等则判断两个数的大小，如果大于则尾指针向前移动，如果小于则头指针向后移动。\n",
    "        * 时间复杂度：O(nlogn) \n",
    "        * 空间复杂度：O(n)\n",
    "        * 注意初始化smallestDiff为float('inf')，然后在遍历时更新smallestDiff."
   ]
  },
  {
   "cell_type": "code",
   "execution_count": 81,
   "metadata": {},
   "outputs": [],
   "source": [
    "class program():\n",
    "    def smallestDifference(arrayOne, arrayTwo):\n",
    "        arrayOne.sort()\n",
    "        arrayTwo.sort()\n",
    "        output = []\n",
    "        oneIdx = 0\n",
    "        twoIdx = 0\n",
    "        current = float('Inf')\n",
    "        smallest = float('Inf')\n",
    "        while oneIdx < len(arrayOne) and twoIdx < len(arrayTwo):\n",
    "            oneValue = arrayOne[oneIdx]\n",
    "            twoValue = arrayTwo[twoIdx]\n",
    "            if oneValue >= twoValue:\n",
    "                current = oneValue - twoValue\n",
    "                twoIdx += 1\n",
    "            elif oneValue < twoValue:\n",
    "                current = twoValue - oneValue\n",
    "                oneIdx += 1\n",
    "            \n",
    "            if current < smallest:\n",
    "                smallest = current\n",
    "                output = [oneValue,twoValue]\n",
    "        return output"
   ]
  },
  {
   "cell_type": "code",
   "execution_count": 82,
   "metadata": {},
   "outputs": [
    {
     "name": "stderr",
     "output_type": "stream",
     "text": [
      ".\n",
      "----------------------------------------------------------------------\n",
      "Ran 1 test in 0.001s\n",
      "\n",
      "OK\n"
     ]
    }
   ],
   "source": [
    "import unittest\n",
    "\n",
    "\n",
    "class TestProgram(unittest.TestCase):\n",
    "    def test_case_1(self):\n",
    "        self.assertEqual(\n",
    "            program.smallestDifference([-1, 5, 10, 20, 28, 3], [26, 134, 135, 15, 17]), [28, 26]\n",
    "        )\n",
    "if __name__ == '__main__':\n",
    "    unittest.main(argv=['first-arg-is-ignored'], exit=False)\n"
   ]
  },
  {
   "cell_type": "markdown",
   "metadata": {},
   "source": [
    "# 9 move-element-to-end"
   ]
  },
  {
   "cell_type": "markdown",
   "metadata": {},
   "source": [
    "* 移动元素到末尾\n",
    "    * 输入: 一个整数数组array和一个整数toMove\n",
    "    * 输出：将数组中的toMove元素移动到数组的末尾(从后往前)，其他元素的相对位置不变\n",
    "* 解决方法\n",
    "    * 1. **双指针**：一个指向数组的头部，一个指向数组的尾部，判断头指针指向的数是否等于toMove，如果等于则将尾指针向前移动，直到头指针指向的数不等于toMove，然后交换头指针和尾指针指向的数。\n",
    "        * 时间复杂度：O(n) \n",
    "        * 空间复杂度：O(1)\n",
    "        * 注意: 这里为了避免重复移动，可进行while嵌套先找到尾部需要移动的数，然后再找到头部需要移动的数。"
   ]
  },
  {
   "cell_type": "code",
   "execution_count": null,
   "metadata": {},
   "outputs": [],
   "source": []
  }
 ],
 "metadata": {
  "kernelspec": {
   "display_name": "Python 3",
   "language": "python",
   "name": "python3"
  },
  "language_info": {
   "codemirror_mode": {
    "name": "ipython",
    "version": 3
   },
   "file_extension": ".py",
   "mimetype": "text/x-python",
   "name": "python",
   "nbconvert_exporter": "python",
   "pygments_lexer": "ipython3",
   "version": "3.10.14"
  }
 },
 "nbformat": 4,
 "nbformat_minor": 2
}
