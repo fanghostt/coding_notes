{
 "cells": [
  {
   "cell_type": "markdown",
   "metadata": {},
   "source": [
    "# EASY"
   ]
  },
  {
   "cell_type": "markdown",
   "metadata": {},
   "source": [
    "# 1 two-number-sum"
   ]
  },
  {
   "cell_type": "markdown",
   "metadata": {},
   "source": [
    "* 两数之和\n",
    "    * 输入: 一个非空整数数组array和一个目标值targetSum \n",
    "    * 输出：在数组中找到两个数的和等于目标值，返回这两个数的数组，如果没有找到则返回空数组。\n",
    "\n",
    "* 解决方法\n",
    "    * 1. 两层循环：**遍历两遍数组**，找到两个数的和等于目标值，返回这两个数的数组，如果没有找到则返回空数组。\n",
    "        * 时间复杂度：O(n^2) \n",
    "        * 空间复杂度：O(1)\n",
    "    * 2. 哈希表：遍历一遍数组，将数组中的数存入**哈希表**，同时判断目标值减去当前数是否在哈希表中，如果在则返回这两个数的数组，如果没有找到则返回空数组。\n",
    "        * python实现为计算出`targetSum - num`，并将`num`存入哈希表(dict)，如果`targetSum - num`在哈希表中，则返回`[num, targetSum - num]`\n",
    "        * 时间复杂度：O(n) \n",
    "        * 空间复杂度：O(n)\n",
    "    * 3. 排序数组：先对数组进行排序，然后使用**双指针**，一个指向数组的头部，一个指向数组的尾部，判断两个指针指向的数的和是否等于目标值，如果等于则返回这两个数的数组，如果不等于则判断两个数的和与目标值的大小，如果大于目标值则尾指针向前移动，如果小于目标值则头指针向后移动。\n",
    "        * python 实现为array.sort()排序\n",
    "        * 时间复杂度：O(nlogn) \n",
    "        * 空间复杂度：O(1)"
   ]
  },
  {
   "cell_type": "code",
   "execution_count": 32,
   "metadata": {},
   "outputs": [],
   "source": [
    "class program():\n",
    "    # solution 1\n",
    "    def twoNumberSum1(array, targetSum):\n",
    "        for i in range(len(array)):\n",
    "            firstNum = array[i]\n",
    "            for j in range(i+1, len(array)):\n",
    "                secondNum = array[j]\n",
    "                if firstNum + secondNum == targetSum:\n",
    "                    return [firstNum, secondNum]\n",
    "        return []\n",
    "\n",
    "\n",
    "    #solution 2\n",
    "    def twoNumberSum2(array, targetSum):\n",
    "        nums = {}\n",
    "        for num in array:\n",
    "            potentialMatch = targetSum - num\n",
    "            if potentialMatch in nums:\n",
    "                return [potentialMatch, num]\n",
    "            else:\n",
    "                nums[num] = True\n",
    "        return []\n",
    "\n",
    "\n",
    "    #solution 3\n",
    "    def twoNumberSum3(array, targetSum):\n",
    "        array.sort()\n",
    "        left = 0 \n",
    "        right = len(array) - 1\n",
    "        while left < right:\n",
    "            currentSum = array[left] + array[right]\n",
    "            if currentSum == targetSum:\n",
    "                return [array[left], array[right]]\n",
    "            elif currentSum < targetSum:\n",
    "                left += 1\n",
    "            elif currentSum > targetSum:\n",
    "                right -= 1\n",
    "        return []\n",
    "    "
   ]
  },
  {
   "cell_type": "code",
   "execution_count": 35,
   "metadata": {},
   "outputs": [
    {
     "name": "stderr",
     "output_type": "stream",
     "text": [
      "...\n",
      "----------------------------------------------------------------------\n",
      "Ran 3 tests in 0.004s\n",
      "\n",
      "OK\n"
     ]
    }
   ],
   "source": [
    "import unittest\n",
    "\n",
    "class TestProgram(unittest.TestCase):\n",
    "    def test_case_1(self):\n",
    "        output = program.twoNumberSum1([3, 5, -4, 8, 11, 1, -1, 6], 10)\n",
    "        self.assertTrue(len(output) == 2)\n",
    "        self.assertTrue(11 in output)\n",
    "        self.assertTrue(-1 in output)\n",
    "    def test_case_2(self):\n",
    "        output = program.twoNumberSum2([3, 5, -4, 8, 11, 1, -1, 6], 10)\n",
    "        self.assertTrue(len(output) == 2)\n",
    "        self.assertTrue(11 in output)\n",
    "        self.assertTrue(-1 in output)\n",
    "    def test_case_3(self):\n",
    "        output = program.twoNumberSum3([3, 5, -4, 8, 11, 1, -1, 6], 10)\n",
    "        self.assertTrue(len(output) == 2)\n",
    "        self.assertTrue(11 in output)\n",
    "        self.assertTrue(-1 in output)\n",
    "\n",
    "if __name__ == '__main__':\n",
    "    unittest.main(argv=['first-arg-is-ignored'], exit=False)\n"
   ]
  },
  {
   "cell_type": "markdown",
   "metadata": {},
   "source": [
    "# 2 validate-subsequence"
   ]
  },
  {
   "cell_type": "markdown",
   "metadata": {},
   "source": [
    "* 验证子序列\n",
    "    * 输入: 两个非空整数数组array和sequence\n",
    "    * 输出：判断sequence是否为array的子序列，如果是则返回True，否则返回False\n",
    "    * 注意：子序列是指一个数组的一部分，这部分的元素在原数组中是有序的，但不一定是连续的。\n",
    "* 解决方法\n",
    "    * 1. **遍历**：双指针，遍历一遍array数组。如果array数组的数等于sequence数组的数，则将sequence数组的指针向后移动，直到遍历完array数组。\n",
    "        * 时间复杂度：O(n) \n",
    "        * 空间复杂度：O(1)\n",
    "    * 2. **遍历**：遍历一遍array数组，单指针记录sequence数组的指针，不需要保存array数组的指针。\n",
    "        * 时间复杂度：O(n) \n",
    "        * 空间复杂度：O(1)"
   ]
  },
  {
   "cell_type": "code",
   "execution_count": 26,
   "metadata": {},
   "outputs": [],
   "source": [
    "array = [5, 1, 22, 25, 6, -1, 8, 10]\n",
    "sequence = [1,6,-1,10]\n",
    "\n",
    "output = True"
   ]
  },
  {
   "cell_type": "code",
   "execution_count": 38,
   "metadata": {},
   "outputs": [],
   "source": [
    "class program():\n",
    "    def isValidSubsequence1(array, sequence):\n",
    "        arrayIdx = 0\n",
    "        seqIdx = 0\n",
    "        while arrayIdx < len(array) and seqIdx < len(sequence):\n",
    "            if array[arrayIdx] == sequence[seqIdx]:\n",
    "                seqIdx += 1\n",
    "            arrayIdx += 1\n",
    "        return seqIdx == len(sequence)\n",
    "\n",
    "    def isValidSubsequence2(array, sequence):\n",
    "        seqIdx = 0\n",
    "        for value in array:\n",
    "            if value == sequence[seqIdx]:\n",
    "                seqIdx += 1\n",
    "            if seqIdx == len(sequence):\n",
    "                break\n",
    "        return seqIdx == len(sequence)\n",
    "\n"
   ]
  },
  {
   "cell_type": "code",
   "execution_count": 40,
   "metadata": {},
   "outputs": [
    {
     "name": "stderr",
     "output_type": "stream",
     "text": [
      "..\n",
      "----------------------------------------------------------------------\n",
      "Ran 2 tests in 0.001s\n",
      "\n",
      "OK\n"
     ]
    }
   ],
   "source": [
    "import unittest\n",
    "\n",
    "\n",
    "class TestProgram(unittest.TestCase):\n",
    "    def test_case_1(self):\n",
    "        array = [5, 1, 22, 25, 6, -1, 8, 10]\n",
    "        sequence = [1, 6, -1, 10]\n",
    "        self.assertTrue(program.isValidSubsequence1(array, sequence))\n",
    "    def test_case_2(self):\n",
    "        array = [5, 1, 22, 25, 6, -1, 8, 10]\n",
    "        sequence = [1, 6, -1, 10]\n",
    "        self.assertTrue(program.isValidSubsequence2(array, sequence))\n",
    "        \n",
    "if __name__ == '__main__':\n",
    "    unittest.main(argv=['first-arg-is-ignored'], exit=False)"
   ]
  },
  {
   "cell_type": "markdown",
   "metadata": {},
   "source": [
    "# 3 sorted-squared-array"
   ]
  },
  {
   "cell_type": "markdown",
   "metadata": {},
   "source": [
    "* 有序数组的平方\n",
    "    * 输入: 一个有序整数数组array\n",
    "    * 输出：返回一个新的数组，新数组中的数是array数组中的数的平方，且新数组是有序的。\n",
    "    * 注意: array 可为负数\n",
    "* 解决方法\n",
    "    * 1. **平方后排序**\n",
    "        * 时间复杂度：O(nlogn) \n",
    "        * 空间复杂度：O(n)\n",
    "    * 2. **双指针边平方边排序**：先找到正负数的分界点，然后使用双指针，一个指向负数的最后一个数，一个指向正数的第一个数，判断两个指针指向的数的平方大小，将较大的数放入新数组的末尾。\n",
    "        * 时间复杂度：O(n) \n",
    "        * 空间复杂度：O(n)"
   ]
  },
  {
   "cell_type": "code",
   "execution_count": 55,
   "metadata": {},
   "outputs": [],
   "source": [
    "class program():\n",
    "    def sortedSquaredArray1(array):\n",
    "        sortedSquare = [0 for _ in array]\n",
    "        \n",
    "        for idx in range(len(array)):\n",
    "            sortedSquare[idx] = array[idx] ** 2\n",
    "        \n",
    "        sortedSquare.sort()\n",
    "        return sortedSquare\n",
    "    \n",
    "    def sortedSquaredArray2(array):\n",
    "        sortedSquare = [0 for _ in array]\n",
    "        biggerValueIdx = len(array) -1\n",
    "        smallerValueIdx = 0\n",
    "        \n",
    "        for idx in reversed(range(len(array))):\n",
    "            biggerValue = array[biggerValueIdx] ** 2\n",
    "            smallerValue = array[smallerValueIdx] ** 2\n",
    "            \n",
    "            if biggerValue >= smallerValue:\n",
    "                sortedSquare[idx] = biggerValue\n",
    "                biggerValueIdx -= 1\n",
    "                \n",
    "            if biggerValue < smallerValue:\n",
    "                sortedSquare[idx] = smallerValue\n",
    "                smallerValue -= 1\n",
    "                \n",
    "        return sortedSquare\n",
    "            \n",
    "    \n",
    "    \n"
   ]
  },
  {
   "cell_type": "code",
   "execution_count": 56,
   "metadata": {},
   "outputs": [
    {
     "name": "stderr",
     "output_type": "stream",
     "text": [
      "..\n",
      "----------------------------------------------------------------------\n",
      "Ran 2 tests in 0.001s\n",
      "\n",
      "OK\n"
     ]
    }
   ],
   "source": [
    "import unittest\n",
    "\n",
    "\n",
    "class TestProgram(unittest.TestCase):\n",
    "    def test_case_1(self):\n",
    "        input = [1, 2, 3, 5, 6, 8, 9]\n",
    "        expected = [1, 4, 9, 25, 36, 64, 81]\n",
    "        actual = program.sortedSquaredArray1(input)\n",
    "        self.assertEqual(actual, expected)\n",
    "        \n",
    "    def test_case_2(self):\n",
    "        input = [1, 2, 3, 5, 6, 8, 9]\n",
    "        expected = [1, 4, 9, 25, 36, 64, 81]\n",
    "        actual = program.sortedSquaredArray2(input)\n",
    "        self.assertEqual(actual, expected)\n",
    "        \n",
    "if __name__ == '__main__':\n",
    "    unittest.main(argv=['first-arg-is-ignored'], exit=False)"
   ]
  },
  {
   "cell_type": "markdown",
   "metadata": {},
   "source": [
    "# 4 tournament-winner"
   ]
  },
  {
   "cell_type": "markdown",
   "metadata": {},
   "source": [
    "* 锦标赛冠军\n",
    "    * 输入: 一个二维整数数组competitions和一个整数数组results\n",
    "    * 输出：返回获胜队伍的名字\n",
    "    * 注意: 赢了得3分，输了得0分，没有平局\n",
    "* 解决方法\n",
    "    * 1. **哈希表**：遍历一遍competitions和results数组，将每个队伍的得分存入哈希表`scores`，然后找到得分最高的队伍。\n",
    "        * 时间复杂度：O(n) \n",
    "        * 空间复杂度：O(k) k为队伍的个数\n",
    "        * 注意：利用currentWinner来记录当前得分最高的队伍，如果有队伍得分超过currentWinner，则更新currentWinner\n"
   ]
  },
  {
   "cell_type": "code",
   "execution_count": 72,
   "metadata": {},
   "outputs": [],
   "source": [
    "\n",
    "class program():\n",
    "    HOME_TEAM_WON = 1\n",
    "    def tournamentWinner(competitions, results):\n",
    "        \n",
    "        def updateScore(winnerTeam, scores):\n",
    "            if winnerTeam in scores:\n",
    "                scores[winnerTeam] += 3\n",
    "            else:\n",
    "                scores[winnerTeam] = 3\n",
    "            \n",
    "        currentWinner = \"\"\n",
    "        scores = {currentWinner:0}\n",
    "        \n",
    "        for idx,competition in enumerate(competitions):\n",
    "            homeTeam, awayTeam = competition\n",
    "            result = results[idx]\n",
    "            winnerTeam = homeTeam if HOME_TEAM_WON == 1 and result == 1 else awayTeam\n",
    "            \n",
    "            updateScore(winnerTeam, scores)\n",
    "            if scores[winnerTeam] > scores[currentWinner]:\n",
    "                currentWinner = winnerTeam\n",
    "        return currentWinner\n"
   ]
  },
  {
   "cell_type": "code",
   "execution_count": 73,
   "metadata": {},
   "outputs": [
    {
     "name": "stderr",
     "output_type": "stream",
     "text": [
      ".\n",
      "----------------------------------------------------------------------\n",
      "Ran 1 test in 0.001s\n",
      "\n",
      "OK\n"
     ]
    }
   ],
   "source": [
    "import unittest\n",
    "\n",
    "\n",
    "class TestProgram(unittest.TestCase):\n",
    "    def test_case_1(self):\n",
    "        competitions = [[\"HTML\", \"C#\"], [\"C#\", \"Python\"], [\"Python\", \"HTML\"]]\n",
    "        results = [0, 0, 1]\n",
    "        expected = \"Python\"\n",
    "        actual = program.tournamentWinner(competitions, results)\n",
    "        self.assertEqual(actual, expected)\n",
    "            \n",
    "if __name__ == '__main__':\n",
    "    unittest.main(argv=['first-arg-is-ignored'], exit=False)"
   ]
  },
  {
   "cell_type": "markdown",
   "metadata": {},
   "source": [
    "# 5 non-constructible-change"
   ]
  },
  {
   "cell_type": "markdown",
   "metadata": {},
   "source": [
    "* 无法找零的金额\n",
    "    * 输入: 一个非负整数数组coins\n",
    "    * 输出：返回无法找零的最小金额\n",
    "    * 注意: 找零的金额为1，2，3，...，n-1，n，n+1，...，sum(coins)\n",
    "* 解决方法\n",
    "    * 1. **排序**：先对coins数组进行排序，然后遍历coins数组，如果当前的找零金额小于等于当前的硬币面值，则返回当前的找零金额，否则更新找零金额。\n",
    "        * 时间复杂度：O(nlogn) \n",
    "        * 空间复杂度：O(1)\n",
    "        * 注意：最小无法找零的金额为从小到大`加和`的硬币面值+1, 使用currentAmount来追踪目前的找零金额。"
   ]
  },
  {
   "cell_type": "code",
   "execution_count": 75,
   "metadata": {},
   "outputs": [],
   "source": [
    "class program():\n",
    "    def nonConstructibleChange(coins):\n",
    "        coins.sort()\n",
    "        currentChange = 0\n",
    "        for coin in coins:\n",
    "            if coin > currentChange + 1:\n",
    "                break\n",
    "            currentChange += coin\n",
    "            \n",
    "        return currentChange + 1"
   ]
  },
  {
   "cell_type": "code",
   "execution_count": 76,
   "metadata": {},
   "outputs": [
    {
     "name": "stderr",
     "output_type": "stream",
     "text": [
      ".\n",
      "----------------------------------------------------------------------\n",
      "Ran 1 test in 0.001s\n",
      "\n",
      "OK\n"
     ]
    }
   ],
   "source": [
    "import unittest\n",
    "\n",
    "\n",
    "class TestProgram(unittest.TestCase):\n",
    "    def test_case_1(self):\n",
    "        input = [5, 7, 1, 1, 2, 3, 22]\n",
    "        expected = 20\n",
    "        actual = program.nonConstructibleChange(input)\n",
    "        self.assertEqual(actual, expected)\n",
    "\n",
    "if __name__ == '__main__':\n",
    "    unittest.main(argv=['first-arg-is-ignored'], exit=False)"
   ]
  },
  {
   "cell_type": "markdown",
   "metadata": {},
   "source": [
    "# 6 transpose-matrix"
   ]
  },
  {
   "cell_type": "markdown",
   "metadata": {},
   "source": [
    "* 矩阵转置\n",
    "    * 输入: 一个二维整数数组matrix\n",
    "    * 输出：返回矩阵的转置\n",
    "* 解决方法\n",
    "    * 1. **遍历**：用两个for循环遍历matrix数组，将matrix[i][j]赋值给newMatrix[j][i]\n",
    "        * 时间复杂度：O(n*m) \n",
    "        * 空间复杂度：O(n*m)\n",
    "        * 注意: 在写入进新的矩阵时，需要先得到row然后再讲row整个写入新的矩阵。所以在循环时，先进行`列`的循环，然后再进行`行`的循环。"
   ]
  },
  {
   "cell_type": "code",
   "execution_count": 77,
   "metadata": {},
   "outputs": [],
   "source": [
    "class program():\n",
    "    def transposeMatrix(matrix):\n",
    "        transposedMatrix = []\n",
    "        for col in range(len(matrix[0])):\n",
    "            newRow = []\n",
    "            for row in range(len(matrix)):\n",
    "                newRow.append(matrix[row][col])\n",
    "            transposedMatrix.append(newRow)\n",
    "        return transposedMatrix"
   ]
  },
  {
   "cell_type": "code",
   "execution_count": 78,
   "metadata": {},
   "outputs": [
    {
     "name": "stderr",
     "output_type": "stream",
     "text": [
      ".\n",
      "----------------------------------------------------------------------\n",
      "Ran 1 test in 0.001s\n",
      "\n",
      "OK\n"
     ]
    }
   ],
   "source": [
    "import unittest\n",
    "\n",
    "\n",
    "class TestProgram(unittest.TestCase):\n",
    "    def test_case_1(self):\n",
    "        input = [[1, 2, 3], [4, 5, 6], [7, 8, 9]]\n",
    "        expected = [[1, 4, 7], [2, 5, 8], [3, 6, 9]]\n",
    "        actual = program.transposeMatrix(input)\n",
    "        self.assertEqual(actual, expected)\n",
    "\n",
    "if __name__ == '__main__':\n",
    "    unittest.main(argv=['first-arg-is-ignored'], exit=False)"
   ]
  },
  {
   "cell_type": "markdown",
   "metadata": {},
   "source": [
    "# Medium"
   ]
  },
  {
   "cell_type": "markdown",
   "metadata": {},
   "source": [
    "#  7 three-number-sum"
   ]
  },
  {
   "cell_type": "markdown",
   "metadata": {},
   "source": [
    "* 三数之和\n",
    "    * 输入: 一个非空整数数组array和一个目标值targetSum \n",
    "    * 输出：在数组中找到三个数的和等于目标值，返回这三个数的数组，如果没有找到则返回空数组。三元数组需要按照升序排列。\n",
    "* 解决方法\n",
    "    * 1. **单循环+双指针**: 先对数组进行排序，然后遍历一遍数组，对于每个数，使用双指针，一个指向当前数的下一个数，一个指向数组的尾部，判断三个数的和是否等于目标值，如果等于则返回这三个数的数组，如果不等于则判断三个数的和与目标值的大小，如果大于目标值则尾指针向前移动，如果小于目标值则头指针向后移动。\n",
    "        * 时间复杂度：O(n^2) \n",
    "        * 空间复杂度：O(n)\n",
    "        * 注意：在写入结果时，需要先将三个数的数组写入一个临时数组，然后再将临时数组写入结果数组。"
   ]
  },
  {
   "cell_type": "code",
   "execution_count": 79,
   "metadata": {},
   "outputs": [],
   "source": [
    "class program():\n",
    "    def threeNumberSum(array, targetSum):\n",
    "        array.sort()\n",
    "        triplets = []\n",
    "        for i in range(len(array) - 2):\n",
    "            left = i + 1\n",
    "            right = len(array) - 1\n",
    "            while left < right:\n",
    "                currentSum = array[i] + array[left] + array[right]\n",
    "                if currentSum == targetSum:\n",
    "                    triplets.append([array[i], array[left], array[right]])\n",
    "                    left += 1\n",
    "                    right -= 1\n",
    "                elif currentSum > targetSum:\n",
    "                    right -= 1\n",
    "                elif currentSum < targetSum:\n",
    "                    left += 1\n",
    "        return triplets "
   ]
  },
  {
   "cell_type": "code",
   "execution_count": 80,
   "metadata": {},
   "outputs": [
    {
     "name": "stderr",
     "output_type": "stream",
     "text": [
      ".\n",
      "----------------------------------------------------------------------\n",
      "Ran 1 test in 0.001s\n",
      "\n",
      "OK\n"
     ]
    }
   ],
   "source": [
    "import unittest\n",
    "\n",
    "\n",
    "class TestProgram(unittest.TestCase):\n",
    "    def test_case_1(self):\n",
    "        self.assertEqual(\n",
    "            program.threeNumberSum([12, 3, 1, 2, -6, 5, -8, 6], 0),\n",
    "            [[-8, 2, 6], [-8, 3, 5], [-6, 1, 5]],\n",
    "        )\n",
    "        \n",
    "if __name__ == '__main__':\n",
    "    unittest.main(argv=['first-arg-is-ignored'], exit=False)\n"
   ]
  },
  {
   "cell_type": "markdown",
   "metadata": {},
   "source": [
    "# 8 smallest-difference"
   ]
  },
  {
   "cell_type": "markdown",
   "metadata": {},
   "source": [
    "* 最小差值\n",
    "    * 输入: 两个非空整数数组arrayOne和arrayTwo\n",
    "    * 输出：返回两个数组中的数的最小差值\n",
    "    * 假设只有一对数的差值最小\n",
    "* 解决方法\n",
    "    * 1. **排序+双指针**：先对两个数组进行`排序`，然后使用`双指针`，一个指向arrayOne的头部，一个指向arrayTwo的头部，判断两个指针指向的数的差值的绝对值大小，将较小的数放入结果数组，然后判断两个数的大小，如果相等则返回结果数组，如果不相等则判断两个数的大小，如果大于则尾指针向前移动，如果小于则头指针向后移动。\n",
    "        * 时间复杂度：O(nlogn) \n",
    "        * 空间复杂度：O(n)\n",
    "        * 注意初始化smallestDiff为float('inf')，然后在遍历时更新smallestDiff."
   ]
  },
  {
   "cell_type": "code",
   "execution_count": 81,
   "metadata": {},
   "outputs": [],
   "source": [
    "class program():\n",
    "    def smallestDifference(arrayOne, arrayTwo):\n",
    "        arrayOne.sort()\n",
    "        arrayTwo.sort()\n",
    "        output = []\n",
    "        oneIdx = 0\n",
    "        twoIdx = 0\n",
    "        current = float('Inf')\n",
    "        smallest = float('Inf')\n",
    "        while oneIdx < len(arrayOne) and twoIdx < len(arrayTwo):\n",
    "            oneValue = arrayOne[oneIdx]\n",
    "            twoValue = arrayTwo[twoIdx]\n",
    "            if oneValue >= twoValue:\n",
    "                current = oneValue - twoValue\n",
    "                twoIdx += 1\n",
    "            elif oneValue < twoValue:\n",
    "                current = twoValue - oneValue\n",
    "                oneIdx += 1\n",
    "            \n",
    "            if current < smallest:\n",
    "                smallest = current\n",
    "                output = [oneValue,twoValue]\n",
    "        return output"
   ]
  },
  {
   "cell_type": "code",
   "execution_count": 82,
   "metadata": {},
   "outputs": [
    {
     "name": "stderr",
     "output_type": "stream",
     "text": [
      ".\n",
      "----------------------------------------------------------------------\n",
      "Ran 1 test in 0.001s\n",
      "\n",
      "OK\n"
     ]
    }
   ],
   "source": [
    "import unittest\n",
    "\n",
    "\n",
    "class TestProgram(unittest.TestCase):\n",
    "    def test_case_1(self):\n",
    "        self.assertEqual(\n",
    "            program.smallestDifference([-1, 5, 10, 20, 28, 3], [26, 134, 135, 15, 17]), [28, 26]\n",
    "        )\n",
    "if __name__ == '__main__':\n",
    "    unittest.main(argv=['first-arg-is-ignored'], exit=False)\n"
   ]
  },
  {
   "cell_type": "markdown",
   "metadata": {},
   "source": [
    "# 9 move-element-to-end"
   ]
  },
  {
   "cell_type": "markdown",
   "metadata": {},
   "source": [
    "* 移动元素到末尾\n",
    "    * 输入: 一个整数数组array和一个整数toMove\n",
    "    * 输出：将数组中的toMove元素移动到数组的末尾(从后往前)，其他元素的相对位置不变\n",
    "* 解决方法\n",
    "    * 1. **双指针**：一个指向数组的头部，一个指向数组的尾部，判断头指针指向的数是否等于toMove，如果等于则将尾指针向前移动，直到头指针指向的数不等于toMove，然后交换头指针和尾指针指向的数。\n",
    "        * 时间复杂度：O(n) \n",
    "        * 空间复杂度：O(1)\n",
    "        * 注意: 这里为了避免重复移动，可进行while嵌套先找到尾部需要移动的数，然后再找到头部需要移动的数。"
   ]
  },
  {
   "cell_type": "code",
   "execution_count": 84,
   "metadata": {},
   "outputs": [],
   "source": [
    "class program():\n",
    "    def moveElementToEnd(array, toMove):\n",
    "        left = 0\n",
    "        right = len(array) - 1\n",
    "        while left < right:\n",
    "            #find right\n",
    "            while left < right and array[right] == toMove:\n",
    "                right -= 1\n",
    "            if array[left] == toMove:\n",
    "                array[left], array[right] = array[right], array[left]\n",
    "            left += 1\n",
    "        return array "
   ]
  },
  {
   "cell_type": "code",
   "execution_count": 85,
   "metadata": {},
   "outputs": [
    {
     "name": "stderr",
     "output_type": "stream",
     "text": [
      ".\n",
      "----------------------------------------------------------------------\n",
      "Ran 1 test in 0.001s\n",
      "\n",
      "OK\n"
     ]
    }
   ],
   "source": [
    "import unittest\n",
    "\n",
    "\n",
    "class TestProgram(unittest.TestCase):\n",
    "    def test_case_1(self):\n",
    "        array = [2, 1, 2, 2, 2, 3, 4, 2]\n",
    "        toMove = 2\n",
    "        expectedStart = [1, 3, 4]\n",
    "if __name__ == '__main__':\n",
    "    unittest.main(argv=['first-arg-is-ignored'], exit=False)"
   ]
  },
  {
   "cell_type": "markdown",
   "metadata": {},
   "source": [
    "# 10 monotonic-array"
   ]
  },
  {
   "cell_type": "markdown",
   "metadata": {},
   "source": [
    "* 单调数组\n",
    "    * 输入: 一个整数数组array\n",
    "    * 输出：判断数组是否为单调数组，如果是则返回True，否则返回False\n",
    "    * 单调数组：数组中的数是单调递增或者单调递减的\n",
    "* 解决方法\n",
    "    * 1. **遍历**：遍历一遍数组，判断数组是否为单调递增或者单调递减\n",
    "        * 时间复杂度：O(n) \n",
    "        * 空间复杂度：O(1)\n",
    "        * 注意：使用两个变量isNonDecreasing和isNonIncreasing来记录数组是否为单调递增或者单调递减"
   ]
  },
  {
   "cell_type": "code",
   "execution_count": 90,
   "metadata": {},
   "outputs": [],
   "source": [
    "class program():\n",
    "    def isMonotonic(array):\n",
    "        isDecrease = True\n",
    "        isIncrease = True\n",
    "        for i in range(len(array) - 1):\n",
    "            if array[i] < array[i+1]:\n",
    "                isDecrease = False\n",
    "            if array[i] > array[i+1]:\n",
    "                isIncrease = False\n",
    "        return isDecrease or isIncrease\n"
   ]
  },
  {
   "cell_type": "code",
   "execution_count": 92,
   "metadata": {},
   "outputs": [
    {
     "name": "stderr",
     "output_type": "stream",
     "text": [
      ".\n",
      "----------------------------------------------------------------------\n",
      "Ran 1 test in 0.001s\n",
      "\n",
      "OK\n"
     ]
    }
   ],
   "source": [
    "import unittest\n",
    "\n",
    "\n",
    "class TestProgram(unittest.TestCase):\n",
    "    def test_case_1(self):\n",
    "        array = [-1, -5, -10, -1100, -1100, -1101, -1102, -9001]\n",
    "        expected = True\n",
    "        actual = program.isMonotonic(array)\n",
    "        self.assertEqual(actual, expected)\n",
    "if __name__ == '__main__':\n",
    "    unittest.main(argv=['first-arg-is-ignored'], exit=False)"
   ]
  },
  {
   "cell_type": "markdown",
   "metadata": {},
   "source": [
    "# 11 spiral-traverse"
   ]
  },
  {
   "cell_type": "markdown",
   "metadata": {},
   "source": [
    "* 螺旋遍历\n",
    "    * 输入: 一个二维整数数组array\n",
    "    * 输出：返回螺旋遍历的数组\n",
    "    * 螺旋遍历：从左上角开始，按照顺时针的方向遍历数组\n",
    "* 解决方法\n",
    "    * 1. **遍历**：使用四个变量记录上下左右的边界，然后遍历数组，按照顺时针的方向遍历数组\n",
    "        * 时间复杂度：O(n*m) \n",
    "        * 空间复杂度：O(n*m)\n",
    "        * 注意：每次循环结束后，需要更新上下左右的边界\n",
    "        * 注意：`只有一行或者一列的情况，需要特殊处理`, 体现在需要break循环, 以及边界指针选择上。"
   ]
  },
  {
   "cell_type": "code",
   "execution_count": 94,
   "metadata": {},
   "outputs": [],
   "source": [
    "class program():\n",
    "    def spiralTraverse(array):\n",
    "        result = []\n",
    "        startRow, endRow = 0, len(array) - 1\n",
    "        startCol, endCol = 0, len(array[0]) - 1\n",
    "        \n",
    "        while startCol <= endCol and startRow <= endRow:\n",
    "            for col in range(startCol, endCol + 1):\n",
    "                result.append(array[startRow][col])\n",
    "                \n",
    "            for row in range(startRow + 1, endRow + 1):\n",
    "                result.append(array[row][endCol])\n",
    "                \n",
    "            for col in reversed(range(startCol, endCol)):\n",
    "                if startRow == endRow:\n",
    "                    break\n",
    "                result.append(array[endRow][col])\n",
    "            \n",
    "            for row in reversed(range(startRow + 1, endRow)):\n",
    "                if startCol == endCol:\n",
    "                    break\n",
    "                result.append(array[row][startCol])\n",
    "            \n",
    "            startRow += 1\n",
    "            startCol += 1\n",
    "            endRow -= 1\n",
    "            endCol -= 1\n",
    "        \n",
    "        return result\n",
    "                "
   ]
  },
  {
   "cell_type": "code",
   "execution_count": 95,
   "metadata": {},
   "outputs": [
    {
     "name": "stderr",
     "output_type": "stream",
     "text": [
      ".\n",
      "----------------------------------------------------------------------\n",
      "Ran 1 test in 0.004s\n",
      "\n",
      "OK\n"
     ]
    }
   ],
   "source": [
    "import unittest\n",
    "\n",
    "\n",
    "class TestProgram(unittest.TestCase):\n",
    "    def test_case_1(self):\n",
    "        matrix = [[1, 2, 3, 4], [12, 13, 14, 5], [11, 16, 15, 6], [10, 9, 8, 7]]\n",
    "        expected = [1, 2, 3, 4, 5, 6, 7, 8, 9, 10, 11, 12, 13, 14, 15, 16]\n",
    "        self.assertEqual(program.spiralTraverse(matrix), expected)\n",
    "if __name__ == '__main__':\n",
    "    unittest.main(argv=['first-arg-is-ignored'], exit=False)"
   ]
  },
  {
   "cell_type": "markdown",
   "metadata": {},
   "source": [
    "# 12 longest-peak"
   ]
  },
  {
   "cell_type": "markdown",
   "metadata": {},
   "source": [
    "* 最长山脉\n",
    "    * 输入: 一个整数数组array\n",
    "    * 输出：返回数组中最长山脉的长度\n",
    "    * 山脉：山脉是指在数组中，有一个数比它的前一个数大，有一个数比它的后一个数大\n",
    "* 解决方法\n",
    "    * 1. **遍历**：遍历一遍数组，判断数组中的每个数是否为山脉的顶点，如果是则计算山脉的长度\n",
    "        * 时间复杂度：O(n) \n",
    "        * 空间复杂度：O(1)\n",
    "        * 注意：首先循环找到山脉的顶点，然后再循环找到山脉的左边和右边，`计算长度后，将指针跳转到山脉的右边`,`在计算山峰长度时，需要考虑指针边界问题`。"
   ]
  },
  {
   "cell_type": "code",
   "execution_count": 97,
   "metadata": {},
   "outputs": [],
   "source": [
    "class program():\n",
    "    def longestPeak(array):\n",
    "        longestPeakLength= 0\n",
    "        i = 1\n",
    "        while i < len(array) - 1:\n",
    "            isPeak = array[i - 1] < array[i] and array[i + 1] < array[i]\n",
    "            if not isPeak:\n",
    "                i += 1\n",
    "                continue\n",
    "            \n",
    "            leftIdx = i - 2\n",
    "            rightIdx = i + 2\n",
    "            while leftIdx >= 0 and array[leftIdx] < array[leftIdx + 1]:\n",
    "                leftIdx -= 1\n",
    "                \n",
    "            while rightIdx <= len(array) - 1 and array[rightIdx] < array[rightIdx - 1]:\n",
    "                rightIdx += 1\n",
    "                \n",
    "            currentPeakLength = rightIdx - leftIdx - 1\n",
    "            longestPeakLength = max(currentPeakLength, longestPeakLength)\n",
    "            i = rightIdx\n",
    "        return longestPeakLength\n",
    "          "
   ]
  },
  {
   "cell_type": "code",
   "execution_count": 98,
   "metadata": {},
   "outputs": [
    {
     "name": "stderr",
     "output_type": "stream",
     "text": [
      ".\n",
      "----------------------------------------------------------------------\n",
      "Ran 1 test in 0.001s\n",
      "\n",
      "OK\n"
     ]
    }
   ],
   "source": [
    "import unittest\n",
    "\n",
    "\n",
    "class TestProgram(unittest.TestCase):\n",
    "    def test_case_1(self):\n",
    "        array = [1, 2, 1]\n",
    "        expected = 3\n",
    "        self.assertEqual(program.longestPeak(array), expected)\n",
    "        \n",
    "if __name__ == '__main__':\n",
    "    unittest.main(argv=['first-arg-is-ignored'], exit=False)"
   ]
  },
  {
   "cell_type": "markdown",
   "metadata": {},
   "source": [
    "# 13 array-of-products"
   ]
  },
  {
   "cell_type": "markdown",
   "metadata": {},
   "source": [
    "* 乘积数组\n",
    "    * 输入: 一个整数数组array\n",
    "    * 输出：返回一个新的数组，新数组中的数是array数组中除了自己以外的所有数的乘积\n",
    "* 解决方法\n",
    "    * 1. **双循环**: 外侧循环遍历数组，内侧循环计算除了自己以外的所有数的乘积\n",
    "        * 时间复杂度：O(n^2) \n",
    "        * 空间复杂度：O(n)\n",
    "    * 2. **双数组**: 先计算左边的乘积数组，然后计算右边的乘积数组，最后将左右两个数组相乘\n",
    "        * 时间复杂度：O(n) \n",
    "        * 空间复杂度：O(n)\n",
    "        * 注意：在计算右边的乘积数组时，需要从右往左计算\n",
    "        * 注意：在计算市，可以不使用数组存储，而直接计算到结果数组中。"
   ]
  },
  {
   "cell_type": "code",
   "execution_count": 3,
   "metadata": {},
   "outputs": [],
   "source": [
    "class program():\n",
    "    def arrayOfProducts1(array):\n",
    "        products = [1 for _ in range(len(array))]\n",
    "        \n",
    "        for i in range(len(array)):\n",
    "            runningProduct = 1\n",
    "            for j in range(len(array)):\n",
    "                if i != j:\n",
    "                    runningProduct *= array[j]\n",
    "            products[i] = runningProduct\n",
    "        return products\n",
    "    \n",
    "    def arrayOfProducts2(array):\n",
    "        products = [1 for _ in range(len(array))]\n",
    "        \n",
    "        leftRunning = 1\n",
    "        for i in range(len(array)):\n",
    "            products[i] = leftRunning\n",
    "            leftRunning *= array[i]\n",
    "            \n",
    "        rightRunning = 1\n",
    "        for j in reversed(range(len(array))):\n",
    "            products[j] *= rightRunning\n",
    "            rightRunning *= array[j]\n",
    "        return products                                                                                                                                                                                                      "
   ]
  },
  {
   "cell_type": "code",
   "execution_count": 4,
   "metadata": {},
   "outputs": [
    {
     "name": "stderr",
     "output_type": "stream",
     "text": [
      "..\n",
      "----------------------------------------------------------------------\n",
      "Ran 2 tests in 0.001s\n",
      "\n",
      "OK\n"
     ]
    }
   ],
   "source": [
    "import unittest\n",
    "\n",
    "\n",
    "class TestProgram(unittest.TestCase):\n",
    "    def test_case_1(self):\n",
    "        array = [5, 1, 4, 2]\n",
    "        expected = [8, 40, 10, 20]\n",
    "        actual = program.arrayOfProducts1(array)\n",
    "        self.assertEqual(actual, expected)\n",
    "        \n",
    "    def test_case_2(self):\n",
    "        array = [5, 1, 4, 2]\n",
    "        expected = [8, 40, 10, 20]\n",
    "        actual = program.arrayOfProducts2(array)\n",
    "        self.assertEqual(actual, expected)    \n",
    "        \n",
    "if __name__ == '__main__':\n",
    "    unittest.main(argv=['first-arg-is-ignored'], exit=False)"
   ]
  },
  {
   "cell_type": "markdown",
   "metadata": {},
   "source": [
    "# 14 first-duplicate-value"
   ]
  },
  {
   "cell_type": "markdown",
   "metadata": {},
   "source": [
    "* 第一个重复的值\n",
    "    * 输入: 一个整数数组array (数组中的数为1,2,...,n) 正整数\n",
    "    * 输出：返回数组中第一个重复的值\n",
    "* 解决方法\n",
    "    * 1. **brute-force**: 双循环，遍历一遍数组，判断数组中的每个数是否为重复的值\n",
    "        * 时间复杂度：O(n^2) \n",
    "        * 空间复杂度：O(1)\n",
    "    * 2. **集合**: 遍历一遍数组，将数组中的数存入集合set，如果数组中的数在哈希表中，则返回这个数\n",
    "        * 时间复杂度：O(n) \n",
    "        * 空间复杂度：O(n)\n",
    "    * 3. **原地修改**: 遍历一遍数组，**将数组中的数对应的索引的数取反**，如果数组中的数对应的索引的数为负数，则返回这个数\n",
    "        * 时间复杂度：O(n) \n",
    "        * 空间复杂度：O(1)\n",
    "        * 注意：`利用数组值的正负性来判断是否见过`.在取反时，需要取绝对值，因为可能已经被取反了"
   ]
  },
  {
   "cell_type": "code",
   "execution_count": 8,
   "metadata": {},
   "outputs": [],
   "source": [
    "class program():\n",
    "    def firstDuplicateValue1(array):\n",
    "        secondIdx = len(array)\n",
    "        for i in range(len(array)):\n",
    "            value = array[i]\n",
    "            for j in range(i + 1, len(array)):\n",
    "                if value == array[j]:\n",
    "                    secondIdx = min(secondIdx, j)\n",
    "                    \n",
    "        if secondIdx == len(array):\n",
    "            return -1\n",
    "        return array[secondIdx]\n",
    "\n",
    "    def firstDuplicateValue2(array):\n",
    "        seen = set()\n",
    "        for value in array:\n",
    "            if value in seen:\n",
    "                return value \n",
    "            seen.add(value)\n",
    "        return -1\n",
    "    \n",
    "    def firstDuplicateValue3(array):\n",
    "        for value in array:\n",
    "            absValue = abs(value)\n",
    "            if array[absValue - 1] < 1:\n",
    "                return absValue\n",
    "            array[absValue - 1] *= -1\n",
    "        return -1\n"
   ]
  },
  {
   "cell_type": "code",
   "execution_count": 9,
   "metadata": {},
   "outputs": [
    {
     "name": "stderr",
     "output_type": "stream",
     "text": [
      "...\n",
      "----------------------------------------------------------------------\n",
      "Ran 3 tests in 0.004s\n",
      "\n",
      "OK\n"
     ]
    }
   ],
   "source": [
    "import unittest\n",
    "\n",
    "\n",
    "class TestProgram(unittest.TestCase):\n",
    "    def test_case_1(self):\n",
    "        input = [2, 1, 5, 2, 3, 3, 4]\n",
    "        expected = 2\n",
    "        actual = program.firstDuplicateValue1(input)\n",
    "        self.assertEqual(actual, expected)\n",
    "    \n",
    "    def test_case_2(self):\n",
    "        input = [2, 1, 5, 2, 3, 3, 4]\n",
    "        expected = 2\n",
    "        actual = program.firstDuplicateValue2(input)\n",
    "        self.assertEqual(actual, expected)\n",
    "    \n",
    "    def test_case_3(self):\n",
    "        input = [2, 1, 5, 2, 3, 3, 4]\n",
    "        expected = 2\n",
    "        actual = program.firstDuplicateValue3(input)\n",
    "        self.assertEqual(actual, expected)\n",
    "        \n",
    "if __name__ == '__main__':\n",
    "    unittest.main(argv=['first-arg-is-ignored'], exit=False)"
   ]
  },
  {
   "cell_type": "markdown",
   "metadata": {},
   "source": [
    "# 15 merge-overlapping-intervals"
   ]
  },
  {
   "cell_type": "markdown",
   "metadata": {},
   "source": [
    "* 合并重叠区间\n",
    "    * 输入: 一个二维整数数组intervals\n",
    "    * 输出：返回合并后的区间\n",
    "* 解决方法\n",
    "    * 1. **排序+遍历**: 先对区间进行排序，然后遍历一遍区间，判断区间是否重叠，如果重叠则合并区间\n",
    "        * 时间复杂度：O(nlogn) \n",
    "        * 空间复杂度：O(n)\n",
    "        * 注意：我们先写入了一个区间，然后通过更改这个区间的右边界来合并区间，如果不重叠则写入新的区间。"
   ]
  },
  {
   "cell_type": "code",
   "execution_count": 10,
   "metadata": {},
   "outputs": [],
   "source": [
    "class program():\n",
    "    def mergeOverlappingIntervals(intervals):\n",
    "        sortedIntervals = sorted(intervals, key = lambda x:x[0])\n",
    "        \n",
    "        currentInterval = sortedIntervals[0]\n",
    "        mergedIntervals = []\n",
    "        mergedIntervals.append(currentInterval)\n",
    "        \n",
    "        for nextInterval in sortedIntervals:\n",
    "            nextIntervalStart, nextIntervalEnd = nextInterval\n",
    "            _, currentIntervalEnd = currentInterval\n",
    "            \n",
    "            if currentIntervalEnd >= nextIntervalStart:\n",
    "                currentInterval[1] = max(nextIntervalEnd, currentIntervalEnd)\n",
    "            else:\n",
    "                currentInterval = nextInterval\n",
    "                mergedIntervals.append(currentInterval)\n",
    "                \n",
    "        return mergedIntervals"
   ]
  },
  {
   "cell_type": "code",
   "execution_count": 11,
   "metadata": {},
   "outputs": [
    {
     "name": "stderr",
     "output_type": "stream",
     "text": [
      ".\n",
      "----------------------------------------------------------------------\n",
      "Ran 1 test in 0.001s\n",
      "\n",
      "OK\n"
     ]
    }
   ],
   "source": [
    "import unittest\n",
    "\n",
    "\n",
    "class TestProgram(unittest.TestCase):\n",
    "    def test_case_1(self):\n",
    "        intervals = [[1, 2], [3, 5], [4, 7], [6, 8], [9, 10]]\n",
    "        expected = [[1, 2], [3, 8], [9, 10]]\n",
    "        actual = program.mergeOverlappingIntervals(intervals)\n",
    "        self.assertEqual(actual, expected)\n",
    "        \n",
    "if __name__ == '__main__':\n",
    "    unittest.main(argv=['first-arg-is-ignored'], exit=False)"
   ]
  },
  {
   "cell_type": "markdown",
   "metadata": {},
   "source": [
    "# 16.best-seat\n"
   ]
  },
  {
   "cell_type": "markdown",
   "metadata": {},
   "source": [
    "* 最佳座位\n",
    "    * 输入: 一个二维整数数组arr\n",
    "    * 输出：返回最佳座位\n",
    "    * 最佳座位：为离左右两边的距离最远的座位，如果有多个最佳座位，则返回最左边的座位，默认最左边最右边的座位有人，如果没有最佳座位，则返回-1。\n",
    "* 解决方法\n",
    "    * 1. **双指针**：遍历一遍数组，找到最佳座位。第一个指针指向左边的人，第二个指针指向右边的人，然后计算两个指针之间的距离，找到最大的距离。\n",
    "        * 时间复杂度：O(n) \n",
    "        * 空间复杂度：O(1)\n",
    "        * 注意：在遍历时，需要记录最佳座位的索引，以及最佳座位的距离"
   ]
  },
  {
   "cell_type": "code",
   "execution_count": 14,
   "metadata": {},
   "outputs": [],
   "source": [
    "class program():\n",
    "    def bestSeat(seats):\n",
    "        bestSeat = -1\n",
    "        maxSpace = 0\n",
    "        left = 0\n",
    "        while left < len(seats):\n",
    "            right = left + 1\n",
    "            while right < len(seats) and seats[right] == 0:\n",
    "                right += 1\n",
    "            \n",
    "            currentSpace = right - left - 1\n",
    "            if currentSpace > maxSpace:\n",
    "                bestSeat = (left + right) // 2\n",
    "                maxSpace = currentSpace\n",
    "            left = right\n",
    "            \n",
    "        return bestSeat"
   ]
  },
  {
   "cell_type": "code",
   "execution_count": 15,
   "metadata": {},
   "outputs": [
    {
     "name": "stderr",
     "output_type": "stream",
     "text": [
      ".\n",
      "----------------------------------------------------------------------\n",
      "Ran 1 test in 0.001s\n",
      "\n",
      "OK\n"
     ]
    }
   ],
   "source": [
    "import unittest\n",
    "\n",
    "class TestProgram(unittest.TestCase):\n",
    "    def test_case_1(self):\n",
    "        input = [1, 0, 1, 0, 0, 0, 1]\n",
    "        expected = 4\n",
    "        actual = program.bestSeat(input)\n",
    "        self.assertEqual(actual, expected)\n",
    "        \n",
    "if __name__ == '__main__':\n",
    "    unittest.main(argv=['first-arg-is-ignored'], exit=False)"
   ]
  },
  {
   "cell_type": "markdown",
   "metadata": {},
   "source": [
    "# 17. zero-sum-subarray"
   ]
  },
  {
   "cell_type": "markdown",
   "metadata": {},
   "source": [
    "* 零和子数组\n",
    "    * 输入: 一个整数数组array\n",
    "    * 输出：返回是否存在和为0的子数组\n",
    "* 解决方法\n",
    "    * 1. **前缀和**：遍历一遍数组，计算前缀和，如果前缀和出现重复，则返回True\n",
    "        * 时间复杂度：O(n) \n",
    "        * 空间复杂度：O(n)\n",
    "        * 注意：`每次将前缀和存入哈希表，如果前缀和出现重复，则表示中间存在和为0的子数组。`"
   ]
  },
  {
   "cell_type": "code",
   "execution_count": 17,
   "metadata": {},
   "outputs": [],
   "source": [
    "class program():\n",
    "    def zeroSumSubarray(nums):\n",
    "        sums = set([0])\n",
    "        currentSum = 0\n",
    "        for num in nums:\n",
    "            currentSum += num\n",
    "            if currentSum in sums:\n",
    "                return True\n",
    "            else:\n",
    "                sums.add(currentSum)\n",
    "        return False"
   ]
  },
  {
   "cell_type": "code",
   "execution_count": 18,
   "metadata": {},
   "outputs": [
    {
     "name": "stderr",
     "output_type": "stream",
     "text": [
      ".\n",
      "----------------------------------------------------------------------\n",
      "Ran 1 test in 0.001s\n",
      "\n",
      "OK\n"
     ]
    }
   ],
   "source": [
    "import unittest\n",
    "\n",
    "class TestProgram(unittest.TestCase):\n",
    "    def test_case_1(self):\n",
    "        input = [4, 2, -1, -1, 3]\n",
    "        expected = True\n",
    "        actual = program.zeroSumSubarray(input)\n",
    "        self.assertEqual(actual, expected)\n",
    "        \n",
    "if __name__ == '__main__':\n",
    "    unittest.main(argv=['first-arg-is-ignored'], exit=False)       \n",
    "        "
   ]
  },
  {
   "cell_type": "code",
   "execution_count": 5,
   "metadata": {},
   "outputs": [],
   "source": [
    "nums = [4, 5, 1, 3,6]\n",
    "\n",
    "solutionXOR = 0\n",
    "for i in range(0, len(nums) + 3):\n",
    "    solutionXOR ^= i\n",
    "    if i < len(nums):\n",
    "        solutionXOR ^= nums[i]"
   ]
  },
  {
   "cell_type": "markdown",
   "metadata": {},
   "source": [
    "# missingNumbers"
   ]
  },
  {
   "cell_type": "markdown",
   "metadata": {},
   "source": [
    "* 缺失的数\n",
    "    * 输入: 一个整数数组array, 从1到n的整数，其中有两个数缺失\n",
    "    * 输出：返回缺失两个数\n",
    "* 解决方法\n",
    "    * 1. **set**：先将数组存入集合set，然后遍历1到n的整数，判断整数是否在集合set中，如果不在则返回这个数\n",
    "        * 时间复杂度：O(n) \n",
    "        * 空间复杂度：O(n)\n",
    "        * 注意：`需要存入set`\n",
    "    * 2. **求和**：先求出1到n的整数的和，然后求出数组的和，通过两个数的平均值，将数组分为两部分，然后分别求出两部分的和，然后求出缺失的两个数。\n",
    "        * 时间复杂度：O(n) \n",
    "        * 空间复杂度：O(1)\n",
    "        * 注意：`求和时，需要注意整数溢出问题`\n",
    "    * 3. **异或**：先将1到n的整数进行异或，然后将数组中的数进行异或，然后将两个异或的结果进行异或，得到两个缺失的数的异或结果，然后找到异或结果的最右边的1(setBits)，然后将数组中的数分为两部分，分别进行异或，得到两个缺失的数。\n",
    "        * 时间复杂度：O(n) \n",
    "        * 空间复杂度：O(1)\n",
    "        * 注意：`相同数异或为0，不同数异或为1。`\n",
    "        * 注意：`找到异或结果的最右边的1时，需要使用setBits = xor & -xor`"
   ]
  },
  {
   "cell_type": "code",
   "execution_count": 11,
   "metadata": {},
   "outputs": [],
   "source": [
    "class program():\n",
    "    def missingNumbers1(nums):\n",
    "        numSets = set(nums)\n",
    "        solution = []\n",
    "        for value in range(1, len(nums) + 3):\n",
    "            if not value in numSets:\n",
    "                solution.append(value)\n",
    "        return solution\n",
    "\n",
    "    def missingNumbers2(nums):\n",
    "        total = sum(range(1, len(nums) + 3))\n",
    "        \n",
    "        for value in nums:\n",
    "            total -= value\n",
    "        \n",
    "        #平均值\n",
    "        averageNum = total // 2\n",
    "        leftTotal = 0\n",
    "        rightTotal = 0\n",
    "        for i in nums:\n",
    "            if i <= averageNum:\n",
    "                leftTotal += i\n",
    "            else:\n",
    "                rightTotal += i\n",
    "        \n",
    "        expLeftTotal = sum(range(1, averageNum + 1))\n",
    "        expRightTotal = sum(range(averageNum + 1, len(nums) + 3))\n",
    "        \n",
    "        return [expLeftTotal - leftTotal, expRightTotal - rightTotal]\n",
    "\n",
    "    def missingNumbers3(nums):\n",
    "        solutionXOR = 0\n",
    "        for i in range(0, len(nums) + 3):\n",
    "            solutionXOR ^= i\n",
    "            if i < len(nums):\n",
    "                solutionXOR ^= nums[i]\n",
    "        \n",
    "        setBit = solutionXOR & -solutionXOR\n",
    "        solution = [0, 0]\n",
    "        for i in range(0, len(nums) + 3):\n",
    "            if i & setBit == 0:\n",
    "                solution[0] ^= i\n",
    "            else:\n",
    "                solution[1] ^= i\n",
    "            \n",
    "            if i < len(nums):\n",
    "                if nums[i] & setBit == 0:\n",
    "                    solution[0] ^= nums[i]\n",
    "                else:\n",
    "                    solution[1] ^= nums[i]\n",
    "        return sorted(solution)\n"
   ]
  },
  {
   "cell_type": "code",
   "execution_count": 12,
   "metadata": {},
   "outputs": [
    {
     "name": "stderr",
     "output_type": "stream",
     "text": [
      "...\n",
      "----------------------------------------------------------------------\n",
      "Ran 3 tests in 0.002s\n",
      "\n",
      "OK\n"
     ]
    }
   ],
   "source": [
    "import unittest\n",
    "\n",
    "\n",
    "class TestProgram(unittest.TestCase):\n",
    "    def test_case_1(self):\n",
    "        input = [4, 5, 1, 3]\n",
    "        expected = [2, 6]\n",
    "        actual = program.missingNumbers1(input)\n",
    "        self.assertEqual(actual, expected)\n",
    "        \n",
    "    def test_case_2(self):\n",
    "        input = [4, 5, 1, 3]\n",
    "        expected = [2, 6]\n",
    "        actual = program.missingNumbers2(input)\n",
    "        self.assertEqual(actual, expected)\n",
    "        \n",
    "    def test_case_3(self):\n",
    "        input = [4, 5, 1, 3]\n",
    "        expected = [2, 6]\n",
    "        actual = program.missingNumbers3(input)\n",
    "        self.assertEqual(actual, expected)\n",
    "\n",
    "if __name__ == '__main__':\n",
    "    unittest.main(argv=['first-arg-is-ignored'], exit=False)   \n",
    "        "
   ]
  },
  {
   "cell_type": "code",
   "execution_count": 16,
   "metadata": {},
   "outputs": [
    {
     "name": "stdout",
     "output_type": "stream",
     "text": [
      "0\n",
      "0\n",
      "!!!\n",
      "1\n",
      "0\n",
      "!!!\n",
      "2\n",
      "2\n",
      "!!!\n",
      "3\n",
      "2\n",
      "!!!\n",
      "4\n",
      "0\n",
      "!!!\n",
      "5\n",
      "0\n",
      "!!!\n",
      "6\n",
      "2\n",
      "!!!\n",
      "7\n",
      "2\n",
      "!!!\n",
      "8\n",
      "0\n",
      "!!!\n",
      "9\n",
      "0\n",
      "!!!\n"
     ]
    }
   ],
   "source": [
    "for i in range(10):\n",
    "    print(i)\n",
    "    print(2 & i)\n",
    "    print(\"!!!\")"
   ]
  },
  {
   "cell_type": "code",
   "execution_count": null,
   "metadata": {},
   "outputs": [],
   "source": []
  }
 ],
 "metadata": {
  "kernelspec": {
   "display_name": "Python 3",
   "language": "python",
   "name": "python3"
  },
  "language_info": {
   "codemirror_mode": {
    "name": "ipython",
    "version": 3
   },
   "file_extension": ".py",
   "mimetype": "text/x-python",
   "name": "python",
   "nbconvert_exporter": "python",
   "pygments_lexer": "ipython3",
   "version": "3.10.14"
  }
 },
 "nbformat": 4,
 "nbformat_minor": 2
}
